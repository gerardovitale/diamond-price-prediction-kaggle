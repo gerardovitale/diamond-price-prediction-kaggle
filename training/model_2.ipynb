{
 "cells": [
  {
   "cell_type": "code",
   "execution_count": 2,
   "metadata": {},
   "outputs": [],
   "source": [
    "from sources.rescaling import standardizing_df\n",
    "from sources.outliers import outliers_info, get_outliers_quantile\n",
    "from sources.linear_model import linear_model, ridge_model, lasso_model\n",
    "from sources.linear_metrics import linear_metrics, save_linear_metrics\n",
    "from sources.feature_crossing import product_crossing\n",
    "from sources.feature_selection import filter_categorical_feature, filter_numeric_feature\n",
    "from sklearn.model_selection import train_test_split\n",
    "import pandas as pd \n",
    "import numpy as np"
   ]
  },
  {
   "cell_type": "code",
   "execution_count": 3,
   "metadata": {},
   "outputs": [],
   "source": [
    "path = '../diamonds-datamad1020/train.csv'\n",
    "df_diamond = pd.read_csv(path, index_col=[0])\n",
    "\n",
    "df_diamond.drop(axis=1, columns=['x','y','z'], inplace=True)"
   ]
  },
  {
   "cell_type": "code",
   "execution_count": 4,
   "metadata": {},
   "outputs": [],
   "source": [
    "X = df_diamond.drop(axis=1, columns=['price'])\n",
    "y = df_diamond['price']"
   ]
  },
  {
   "cell_type": "markdown",
   "metadata": {},
   "source": [
    "## Separating the data in numerical and categorical values"
   ]
  },
  {
   "cell_type": "code",
   "execution_count": 5,
   "metadata": {},
   "outputs": [],
   "source": [
    "X_numer = X.select_dtypes(include=[np.number])\n",
    "X_categ = X.select_dtypes(exclude=[np.number])"
   ]
  },
  {
   "cell_type": "markdown",
   "metadata": {},
   "source": [
    "## On numric data\n",
    "- ### Standardizing!"
   ]
  },
  {
   "cell_type": "code",
   "execution_count": 6,
   "metadata": {},
   "outputs": [],
   "source": [
    "X_numer_std = standardizing_df(X_numer)"
   ]
  },
  {
   "cell_type": "markdown",
   "metadata": {},
   "source": [
    "## On categorical data\n",
    "- ### get dummies"
   ]
  },
  {
   "cell_type": "code",
   "execution_count": 7,
   "metadata": {},
   "outputs": [],
   "source": [
    "X_categ_dum = pd.get_dummies(X_categ)"
   ]
  },
  {
   "cell_type": "markdown",
   "metadata": {},
   "source": [
    "## Rejoining the data, numerical and categorical"
   ]
  },
  {
   "cell_type": "code",
   "execution_count": 8,
   "metadata": {},
   "outputs": [],
   "source": [
    "X = X_numer_std\n",
    "X = X.join(X_categ_dum)"
   ]
  },
  {
   "cell_type": "markdown",
   "metadata": {},
   "source": [
    "## Performing the feature cross!"
   ]
  },
  {
   "cell_type": "code",
   "execution_count": 9,
   "metadata": {},
   "outputs": [],
   "source": [
    "X_synth = product_crossing(X)"
   ]
  },
  {
   "cell_type": "markdown",
   "metadata": {},
   "source": [
    "---\n",
    "# Let's split the data and train the models"
   ]
  },
  {
   "cell_type": "code",
   "execution_count": 10,
   "metadata": {},
   "outputs": [],
   "source": [
    "X_train, X_test, y_train, y_test = train_test_split(X_synth, y, test_size=.20)"
   ]
  },
  {
   "cell_type": "markdown",
   "metadata": {},
   "source": [
    "## linear_model"
   ]
  },
  {
   "cell_type": "code",
   "execution_count": 11,
   "metadata": {},
   "outputs": [
    {
     "data": {
      "text/plain": [
       "({'model': 'linear_model_2',\n",
       "  'r2_score': 0.9657497253210807,\n",
       "  'mean_squared_error': 545124.9205498548,\n",
       "  'root_mean_squared_error': 738.3257550362541,\n",
       "  'mean_absolute_error': 469.25739288534226},\n",
       " {'model': 'linear_model_2',\n",
       "  'r2_score': 0.9623568814779923,\n",
       "  'mean_squared_error': 606667.8152730138,\n",
       "  'root_mean_squared_error': 778.8888337067195,\n",
       "  'mean_absolute_error': 486.4582102687131})"
      ]
     },
     "execution_count": 11,
     "metadata": {},
     "output_type": "execute_result"
    }
   ],
   "source": [
    "y_pred, y_pred_train = linear_model(X_train, X_test, y_train)\n",
    "linear_metrics(y_test, y_pred, model='linear_model_2'), linear_metrics(y_train, y_pred_train, model='linear_model_2')"
   ]
  },
  {
   "cell_type": "markdown",
   "metadata": {},
   "source": [
    "## ridge_model"
   ]
  },
  {
   "cell_type": "code",
   "execution_count": 12,
   "metadata": {},
   "outputs": [
    {
     "name": "stdout",
     "output_type": "stream",
     "text": [
      "0.001 738.3260131976393 778.8888337258262\n",
      "0.01 738.3283379141947 778.8888356158161\n",
      "0.1 738.3517089444427 778.8890230619735\n",
      "0.25 738.3911486018841 778.8900014205976\n",
      "0.5 738.4581719328935 778.8934040445705\n",
      "0.75 738.5267091048532 778.8989024861991\n",
      "1 738.5966555216495 778.9063713439917\n",
      "2 738.8887564253936 778.9538205284182\n",
      "5 739.8490589834702 779.2236493208626\n",
      "10 741.5921146367676 779.9289707482434\n"
     ]
    }
   ],
   "source": [
    "alphas = [0.001,0.01,0.1,0.25,0.5,0.75,1,2,5,10]\n",
    "for a in alphas:\n",
    "    y_pred, y_pred_train = ridge_model(X_train, X_test, y_train, alpha=a)\n",
    "    print(a, linear_metrics(y_test, y_pred, model='ridge_model_2')['root_mean_squared_error'], linear_metrics(y_train, y_pred_train, model='ridge_model_2')['root_mean_squared_error'])"
   ]
  },
  {
   "cell_type": "markdown",
   "metadata": {},
   "source": [
    "---\n",
    "# Training for all dataset"
   ]
  },
  {
   "cell_type": "code",
   "execution_count": 13,
   "metadata": {},
   "outputs": [],
   "source": [
    "X_pred = pd.read_csv('../diamonds-datamad1020/predict.csv', index_col=[0])\n",
    "X_raw = pd.read_csv('../diamonds-datamad1020/predict.csv', index_col=[0])\n",
    "\n",
    "X_pred.drop(axis=1, columns=['x', 'y', 'z'], inplace=True)\n",
    "\n",
    "X_numer = X_pred.select_dtypes(include=[np.number])\n",
    "X_categ = X_pred.select_dtypes(exclude=[np.number])\n",
    "\n",
    "X_numer_std = standardizing_df(X_numer)\n",
    "X_categ_dum = pd.get_dummies(X_categ)\n",
    "\n",
    "X_pred = X_numer_std\n",
    "X_pred = X_pred.join(X_categ_dum)\n",
    "\n",
    "X_pred = product_crossing(X_pred)\n",
    "\n",
    "y_pred, y_pred_train = linear_model(X_synth, X_pred, y)"
   ]
  },
  {
   "cell_type": "code",
   "execution_count": 19,
   "metadata": {},
   "outputs": [
    {
     "data": {
      "text/html": [
       "<div>\n",
       "<style scoped>\n",
       "    .dataframe tbody tr th:only-of-type {\n",
       "        vertical-align: middle;\n",
       "    }\n",
       "\n",
       "    .dataframe tbody tr th {\n",
       "        vertical-align: top;\n",
       "    }\n",
       "\n",
       "    .dataframe thead th {\n",
       "        text-align: right;\n",
       "    }\n",
       "</style>\n",
       "<table border=\"1\" class=\"dataframe\">\n",
       "  <thead>\n",
       "    <tr style=\"text-align: right;\">\n",
       "      <th></th>\n",
       "      <th>price</th>\n",
       "    </tr>\n",
       "    <tr>\n",
       "      <th>id</th>\n",
       "      <th></th>\n",
       "    </tr>\n",
       "  </thead>\n",
       "  <tbody>\n",
       "    <tr>\n",
       "      <th>0</th>\n",
       "      <td>1039.396470</td>\n",
       "    </tr>\n",
       "    <tr>\n",
       "      <th>1</th>\n",
       "      <td>6791.766082</td>\n",
       "    </tr>\n",
       "    <tr>\n",
       "      <th>2</th>\n",
       "      <td>362.630527</td>\n",
       "    </tr>\n",
       "    <tr>\n",
       "      <th>3</th>\n",
       "      <td>1833.805053</td>\n",
       "    </tr>\n",
       "    <tr>\n",
       "      <th>4</th>\n",
       "      <td>1116.203174</td>\n",
       "    </tr>\n",
       "    <tr>\n",
       "      <th>...</th>\n",
       "      <td>...</td>\n",
       "    </tr>\n",
       "    <tr>\n",
       "      <th>13480</th>\n",
       "      <td>603.128394</td>\n",
       "    </tr>\n",
       "    <tr>\n",
       "      <th>13481</th>\n",
       "      <td>3793.572613</td>\n",
       "    </tr>\n",
       "    <tr>\n",
       "      <th>13482</th>\n",
       "      <td>972.238406</td>\n",
       "    </tr>\n",
       "    <tr>\n",
       "      <th>13483</th>\n",
       "      <td>224.060792</td>\n",
       "    </tr>\n",
       "    <tr>\n",
       "      <th>13484</th>\n",
       "      <td>4457.721869</td>\n",
       "    </tr>\n",
       "  </tbody>\n",
       "</table>\n",
       "<p>13485 rows × 1 columns</p>\n",
       "</div>"
      ],
      "text/plain": [
       "             price\n",
       "id                \n",
       "0      1039.396470\n",
       "1      6791.766082\n",
       "2       362.630527\n",
       "3      1833.805053\n",
       "4      1116.203174\n",
       "...            ...\n",
       "13480   603.128394\n",
       "13481  3793.572613\n",
       "13482   972.238406\n",
       "13483   224.060792\n",
       "13484  4457.721869\n",
       "\n",
       "[13485 rows x 1 columns]"
      ]
     },
     "execution_count": 19,
     "metadata": {},
     "output_type": "execute_result"
    }
   ],
   "source": [
    "solution = pd.DataFrame(y_pred, index=X_pred.index, columns=['price'])\n",
    "solution.index.name = 'id'\n",
    "# solution"
   ]
  },
  {
   "cell_type": "code",
   "execution_count": 20,
   "metadata": {},
   "outputs": [],
   "source": [
    "# solution.to_csv('../outputs/test_2.csv')"
   ]
  }
 ],
 "metadata": {
  "kernelspec": {
   "display_name": "Python 3",
   "language": "python",
   "name": "python3"
  },
  "language_info": {
   "codemirror_mode": {
    "name": "ipython",
    "version": 3
   },
   "file_extension": ".py",
   "mimetype": "text/x-python",
   "name": "python",
   "nbconvert_exporter": "python",
   "pygments_lexer": "ipython3",
   "version": "3.8.3"
  }
 },
 "nbformat": 4,
 "nbformat_minor": 4
}
