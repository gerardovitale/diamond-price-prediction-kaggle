{
 "cells": [
  {
   "cell_type": "code",
   "execution_count": 10,
   "metadata": {},
   "outputs": [],
   "source": [
    "from sources.rescaling import standardizing_df\n",
    "from sources.outliers import outliers_info, get_outliers_quantile\n",
    "from sources.linear_model import linear_model, ridge_model, lasso_model\n",
    "from sources.linear_metrics import linear_metrics, save_linear_metrics\n",
    "from sources.feature_crossing import product_crossing\n",
    "from sources.feature_selection import filter_categorical_feature, filter_numeric_feature\n",
    "from sklearn.model_selection import train_test_split\n",
    "import pandas as pd \n",
    "import numpy as np"
   ]
  },
  {
   "cell_type": "code",
   "execution_count": 11,
   "metadata": {},
   "outputs": [],
   "source": [
    "path = '../diamonds-datamad1020/train.csv'\n",
    "df_diamond = pd.read_csv(path, index_col=[0])\n",
    "\n",
    "df_diamond.drop(axis=1, columns=['x','y','z'], inplace=True)"
   ]
  },
  {
   "cell_type": "code",
   "execution_count": 12,
   "metadata": {},
   "outputs": [],
   "source": [
    "X = df_diamond.drop(axis=1, columns=['price'])\n",
    "y = df_diamond['price']"
   ]
  },
  {
   "cell_type": "markdown",
   "metadata": {},
   "source": [
    "## Separating the categorical values"
   ]
  },
  {
   "cell_type": "code",
   "execution_count": 13,
   "metadata": {},
   "outputs": [],
   "source": [
    "X_categ = X.select_dtypes(exclude=[np.number])\n",
    "X_numer = X.select_dtypes(include=[np.number])"
   ]
  },
  {
   "cell_type": "code",
   "execution_count": 14,
   "metadata": {},
   "outputs": [],
   "source": [
    "X_categ_dum = pd.get_dummies(X_categ)"
   ]
  },
  {
   "cell_type": "markdown",
   "metadata": {},
   "source": [
    "## Rejoining the data, numerical and categorical"
   ]
  },
  {
   "cell_type": "code",
   "execution_count": 15,
   "metadata": {},
   "outputs": [],
   "source": [
    "X = X_numer\n",
    "X = X.join(X_categ_dum)"
   ]
  },
  {
   "cell_type": "markdown",
   "metadata": {},
   "source": [
    "---\n",
    "# Let's split the data and train the models"
   ]
  },
  {
   "cell_type": "code",
   "execution_count": 16,
   "metadata": {},
   "outputs": [],
   "source": [
    "X_train, X_test, y_train, y_test = train_test_split(X, y, test_size=.20)"
   ]
  },
  {
   "cell_type": "markdown",
   "metadata": {},
   "source": [
    "## linear_model"
   ]
  },
  {
   "cell_type": "code",
   "execution_count": 17,
   "metadata": {},
   "outputs": [
    {
     "data": {
      "text/plain": [
       "({'model': 'linear_model_1',\n",
       "  'r2_score': 0.9166761669603564,\n",
       "  'mean_squared_error': 1335667.6461366513,\n",
       "  'root_mean_squared_error': 1155.7108834551361,\n",
       "  'mean_absolute_error': 805.234935496566},\n",
       " {'model': 'linear_model_1',\n",
       "  'r2_score': 0.9163578524511223,\n",
       "  'mean_squared_error': 1345686.2905530015,\n",
       "  'root_mean_squared_error': 1160.0371936076021,\n",
       "  'mean_absolute_error': 807.7658726406785})"
      ]
     },
     "execution_count": 17,
     "metadata": {},
     "output_type": "execute_result"
    }
   ],
   "source": [
    "y_pred, y_pred_train = linear_model(X_train, X_test, y_train)\n",
    "linear_metrics(y_test, y_pred, model='linear_model_1'), linear_metrics(y_train, y_pred_train, model='linear_model_1')"
   ]
  },
  {
   "cell_type": "markdown",
   "metadata": {},
   "source": [
    "## ridge_model"
   ]
  },
  {
   "cell_type": "code",
   "execution_count": 18,
   "metadata": {},
   "outputs": [
    {
     "name": "stdout",
     "output_type": "stream",
     "text": [
      "0.001 1155.7108383895331 1160.0371936085076\n",
      "0.01 1155.7104328850874 1160.037193698128\n",
      "0.1 1155.706386350706 1160.0372026577493\n",
      "0.25 1155.6996764869823 1160.0372501456586\n",
      "0.5 1155.688588695432 1160.0374195909242\n",
      "0.75 1155.677619831287 1160.03770169057\n",
      "1 1155.6667696460136 1160.0380961924654\n",
      "2 1155.6245507460408 1160.0407932043122\n",
      "5 1155.509106743041 1160.059491867841\n",
      "10 1155.353159682823 1160.1250872810338\n"
     ]
    }
   ],
   "source": [
    "alphas = [0.001,0.01,0.1,0.25,0.5,0.75,1,2,5,10]\n",
    "for a in alphas:\n",
    "    y_pred, y_pred_train = ridge_model(X_train, X_test, y_train, alpha=a)\n",
    "    print(a, linear_metrics(y_test, y_pred, model='ridge_model_1')['root_mean_squared_error'], linear_metrics(y_train, y_pred_train, model='ridge_model_2')['root_mean_squared_error'])"
   ]
  },
  {
   "cell_type": "markdown",
   "metadata": {},
   "source": [
    "---\n",
    "# Training for all dataset"
   ]
  },
  {
   "cell_type": "code",
   "execution_count": 21,
   "metadata": {},
   "outputs": [],
   "source": [
    "X_pred = pd.read_csv('../diamonds-datamad1020/predict.csv', index_col=[0])\n",
    "\n",
    "X_pred.drop(axis=1, columns=['x', 'y', 'z'], inplace=True)\n",
    "\n",
    "X_numer = X_pred.select_dtypes(include=[np.number])\n",
    "X_categ = X_pred.select_dtypes(exclude=[np.number])\n",
    "\n",
    "X_categ_dum = pd.get_dummies(X_categ)\n",
    "\n",
    "X_pred = X_numer\n",
    "X_pred = X_pred.join(X_categ_dum)\n",
    "\n",
    "y_pred, y_pred_train = linear_model(X, X_pred, y)"
   ]
  },
  {
   "cell_type": "code",
   "execution_count": 23,
   "metadata": {},
   "outputs": [
    {
     "data": {
      "text/html": [
       "<div>\n",
       "<style scoped>\n",
       "    .dataframe tbody tr th:only-of-type {\n",
       "        vertical-align: middle;\n",
       "    }\n",
       "\n",
       "    .dataframe tbody tr th {\n",
       "        vertical-align: top;\n",
       "    }\n",
       "\n",
       "    .dataframe thead th {\n",
       "        text-align: right;\n",
       "    }\n",
       "</style>\n",
       "<table border=\"1\" class=\"dataframe\">\n",
       "  <thead>\n",
       "    <tr style=\"text-align: right;\">\n",
       "      <th></th>\n",
       "      <th>price</th>\n",
       "    </tr>\n",
       "    <tr>\n",
       "      <th>id</th>\n",
       "      <th></th>\n",
       "    </tr>\n",
       "  </thead>\n",
       "  <tbody>\n",
       "    <tr>\n",
       "      <th>0</th>\n",
       "      <td>845.034306</td>\n",
       "    </tr>\n",
       "    <tr>\n",
       "      <th>1</th>\n",
       "      <td>7176.182701</td>\n",
       "    </tr>\n",
       "    <tr>\n",
       "      <th>2</th>\n",
       "      <td>553.202888</td>\n",
       "    </tr>\n",
       "    <tr>\n",
       "      <th>3</th>\n",
       "      <td>2288.332250</td>\n",
       "    </tr>\n",
       "    <tr>\n",
       "      <th>4</th>\n",
       "      <td>1033.428498</td>\n",
       "    </tr>\n",
       "    <tr>\n",
       "      <th>...</th>\n",
       "      <td>...</td>\n",
       "    </tr>\n",
       "    <tr>\n",
       "      <th>13480</th>\n",
       "      <td>-1715.144562</td>\n",
       "    </tr>\n",
       "    <tr>\n",
       "      <th>13481</th>\n",
       "      <td>4522.510531</td>\n",
       "    </tr>\n",
       "    <tr>\n",
       "      <th>13482</th>\n",
       "      <td>1360.112266</td>\n",
       "    </tr>\n",
       "    <tr>\n",
       "      <th>13483</th>\n",
       "      <td>-87.742908</td>\n",
       "    </tr>\n",
       "    <tr>\n",
       "      <th>13484</th>\n",
       "      <td>4936.054098</td>\n",
       "    </tr>\n",
       "  </tbody>\n",
       "</table>\n",
       "<p>13485 rows × 1 columns</p>\n",
       "</div>"
      ],
      "text/plain": [
       "             price\n",
       "id                \n",
       "0       845.034306\n",
       "1      7176.182701\n",
       "2       553.202888\n",
       "3      2288.332250\n",
       "4      1033.428498\n",
       "...            ...\n",
       "13480 -1715.144562\n",
       "13481  4522.510531\n",
       "13482  1360.112266\n",
       "13483   -87.742908\n",
       "13484  4936.054098\n",
       "\n",
       "[13485 rows x 1 columns]"
      ]
     },
     "execution_count": 23,
     "metadata": {},
     "output_type": "execute_result"
    }
   ],
   "source": [
    "solution = pd.DataFrame(y_pred, index=X_pred.index, columns=['price'])\n",
    "solution.index.name = 'id'\n",
    "solution"
   ]
  },
  {
   "cell_type": "code",
   "execution_count": 20,
   "metadata": {},
   "outputs": [],
   "source": [
    "# solution.to_csv('../outputs/test_1.csv')"
   ]
  }
 ],
 "metadata": {
  "kernelspec": {
   "display_name": "Python 3",
   "language": "python",
   "name": "python3"
  },
  "language_info": {
   "codemirror_mode": {
    "name": "ipython",
    "version": 3
   },
   "file_extension": ".py",
   "mimetype": "text/x-python",
   "name": "python",
   "nbconvert_exporter": "python",
   "pygments_lexer": "ipython3",
   "version": "3.8.3"
  }
 },
 "nbformat": 4,
 "nbformat_minor": 4
}
